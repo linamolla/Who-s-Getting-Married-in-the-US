{
 "cells": [
  {
   "cell_type": "code",
   "execution_count": 2,
   "id": "350ed153-6930-4d8b-8892-85cc7f16de99",
   "metadata": {},
   "outputs": [
    {
     "data": {
      "text/plain": [
       "Year\n",
       "2020    67521\n",
       "2019    68703\n",
       "2018    63179\n",
       "2017    61136\n",
       "2017    61372\n",
       "2016    59039\n",
       "2015    56516\n",
       "2014    53657\n",
       "2013    53585\n",
       "2013    51939\n",
       "2012    51017\n",
       "2011    50054\n",
       "2010    49276\n",
       "2009    49777\n",
       "2008    50303\n",
       "2007    50233\n",
       "2006    48201\n",
       "2005    46326\n",
       "2004    44334\n",
       "2003    43318\n",
       "2002    42409\n",
       "2001    42228\n",
       "2000    41990\n",
       "1999    40696\n",
       "1998    38885\n",
       "1997    37005\n",
       "1996    35492\n",
       "1995    34076\n",
       "1994    32264\n",
       "1993    31241\n",
       "1992    30636\n",
       "1991    30126\n",
       "1990    29943\n",
       "1989    28906\n",
       "1988    27225\n",
       "1987    26061\n",
       "1986    24897\n",
       "1985    23618\n",
       "1984    22415\n",
       "1983    20885\n",
       "1982    20171\n",
       "1981    19074\n",
       "1980    17710\n",
       "1979    16461\n",
       "1978    15064\n",
       "1977    13572\n",
       "1976    12686\n",
       "1975    11800\n",
       "1974    11197\n",
       "1973    10512\n",
       "1972     9697\n",
       "1971     9028\n",
       "1970     8734\n",
       "1969     8389\n",
       "1968     7743\n",
       "1967     7143\n",
       "Name: Estimate, dtype: int64"
      ]
     },
     "execution_count": 2,
     "metadata": {},
     "output_type": "execute_result"
    }
   ],
   "source": [
    "import matplotlib.pyplot as plt\n",
    "import pandas as pd\n",
    "import os\n",
    "os.getcwd()\n",
    "os.chdir('/Users/linamolla/Desktop/DataBlog')\n",
    "median_income = pd.read_excel('tableD1.xlsx', sheet_name = 'formatted_tableD1', header = 1, index_col = 0)\n",
    "median_income = median_income['Estimate']\n",
    "median_income"
   ]
  },
  {
   "cell_type": "code",
   "execution_count": 2,
   "id": "0cd94460-ca7e-46d5-880c-254f876e174c",
   "metadata": {},
   "outputs": [
    {
     "data": {
      "text/plain": [
       "Year\n",
       "2020    67521\n",
       "2019    68703\n",
       "2018    63179\n",
       "2017    61136\n",
       "2017    61372\n",
       "2016    59039\n",
       "2015    56516\n",
       "2014    53657\n",
       "2013    53585\n",
       "2013    51939\n",
       "2012    51017\n",
       "2011    50054\n",
       "2010    49276\n",
       "2009    49777\n",
       "2008    50303\n",
       "2007    50233\n",
       "2006    48201\n",
       "2005    46326\n",
       "2004    44334\n",
       "2003    43318\n",
       "2002    42409\n",
       "2001    42228\n",
       "2000    41990\n",
       "Name: Estimate, dtype: int64"
      ]
     },
     "execution_count": 2,
     "metadata": {},
     "output_type": "execute_result"
    }
   ],
   "source": [
    "recent = median_income.iloc[0:23]\n",
    "recent"
   ]
  },
  {
   "cell_type": "code",
   "execution_count": 3,
   "id": "03247661-19d3-42a5-b073-b11bf9e818d1",
   "metadata": {},
   "outputs": [
    {
     "data": {
      "image/png": "[encoded data removed]",
      "text/plain": [
       "<Figure size 432x288 with 1 Axes>"
      ]
     },
     "metadata": {
      "needs_background": "light"
     },
     "output_type": "display_data"
    }
   ],
   "source": [
    "recent.plot.bar(color = 'skyblue', xlabel = 'Year', ylabel = 'Estimate Income',\n",
    "            title = 'Historical Median Income in the US: 2000 to 2020').invert_xaxis();\n",
    "plt.savefig(\"med_income_vis.jpg\")"
   ]
  },
  {
   "cell_type": "code",
   "execution_count": null,
   "id": "30707b5d-3b3e-45bd-814f-acc235b23ae3",
   "metadata": {},
   "outputs": [],
   "source": []
  }
 ],
 "metadata": {
  "kernelspec": {
   "display_name": "Python 3",
   "language": "python",
   "name": "python3"
  },
  "language_info": {
   "codemirror_mode": {
    "name": "ipython",
    "version": 3
   },
   "file_extension": ".py",
   "mimetype": "text/x-python",
   "name": "python",
   "nbconvert_exporter": "python",
   "pygments_lexer": "ipython3",
   "version": "3.8.8"
  }
 },
 "nbformat": 4,
 "nbformat_minor": 5
}
